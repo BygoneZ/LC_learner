{
 "cells": [
  {
   "cell_type": "code",
   "execution_count": null,
   "metadata": {},
   "outputs": [],
   "source": [
    "import numpy as np"
   ]
  },
  {
   "cell_type": "code",
   "execution_count": null,
   "metadata": {},
   "outputs": [],
   "source": []
  },
  {
   "attachments": {},
   "cell_type": "markdown",
   "metadata": {},
   "source": []
  },
  {
   "attachments": {},
   "cell_type": "markdown",
   "metadata": {},
   "source": [
    "Binary search"
   ]
  },
  {
   "cell_type": "code",
   "execution_count": null,
   "metadata": {},
   "outputs": [],
   "source": [
    "# written by: GPT4\n",
    "# a template of binary search\n",
    "def binary_search(arr, target):\n",
    "    left, right = 0, len(arr) - 1\n",
    "\n",
    "    while left <= right:\n",
    "        mid = left + (right - left) // 2\n",
    "\n",
    "        # Check if target is present at the mid\n",
    "        if arr[mid] == target:\n",
    "            return mid\n",
    "\n",
    "        # If target is greater, ignore left half\n",
    "        elif arr[mid] < target:\n",
    "            left = mid + 1\n",
    "\n",
    "        # If target is smaller, ignore right half\n",
    "        else:\n",
    "            right = mid - 1\n",
    "\n",
    "    # If we reach here, then the element was not present\n",
    "    return -1\n",
    "\n",
    "'''\n",
    "This function takes a sorted array arr and a target value as input. It returns the index of target in arr if target is present, otherwise, it returns -1.\n",
    "\n",
    "The mid is calculated as left + (right - left) // 2 instead of (left + right) // 2 to avoid overflow that can happen if left and right are both near the upper limit of their data type.\n",
    "\n",
    "Please remember to use this binary search algorithm only on sorted arrays. It relies on the sorted property of the array to make decisions, and won't work correctly on an unsorted array.\n",
    "'''\n",
    "\n"
   ]
  },
  {
   "cell_type": "code",
   "execution_count": null,
   "metadata": {},
   "outputs": [],
   "source": [
    "# Further explaination\n",
    "\n",
    "'''\n",
    "\n",
    "Binary search involves repeatedly dividing the search space in half. The point of division is the 'middle' of the current search space, or range. We commonly calculate this middle index as the average of the two bounds, which could be done by (left + right) // 2.\n",
    "\n",
    "However, in some cases, especially in languages like C++ or Java which have a maximum limit for integer types, if the values of left and right are both very large (close to the maximum integer limit), then their sum could exceed this maximum limit and 'overflow', leading to incorrect results or runtime errors.\n",
    "\n",
    "Python itself is not susceptible to this kind of overflow because it can handle arbitrarily large integers, but the convention of left + (right - left) // 2 is used for consistency with other languages and scenarios where this issue could be a problem.\n",
    "\n",
    "Let's see why left + (right - left) // 2 avoids overflow:\n",
    "\n",
    "(right - left) // 2: Here, we're calculating half the difference between right and left. Since right is always greater than or equal to left, this difference will always be a positive number or zero. Dividing by 2 gives us the 'halfway point' between left and right.\n",
    "\n",
    "left + (right - left) // 2: We then add this 'halfway point' to left. This effectively gives us the middle point between left and right, the same result as (left + right) // 2, but without ever needing to directly add left and right, thus avoiding the risk of overflow.\n",
    "\n",
    "It's a small tweak, but in certain circumstances it can prevent bugs and is considered good practice to use even in languages like Python.\n",
    "\n",
    "'''\n",
    "\n",
    "None"
   ]
  }
 ],
 "metadata": {
  "language_info": {
   "name": "python"
  },
  "orig_nbformat": 4
 },
 "nbformat": 4,
 "nbformat_minor": 2
}
