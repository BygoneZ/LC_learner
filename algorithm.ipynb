{
 "cells": [
  {
   "cell_type": "code",
   "execution_count": null,
   "metadata": {},
   "outputs": [],
   "source": []
  },
  {
   "cell_type": "code",
   "execution_count": null,
   "metadata": {},
   "outputs": [],
   "source": [
    "import numpy as np"
   ]
  },
  {
   "cell_type": "code",
   "execution_count": null,
   "metadata": {},
   "outputs": [],
   "source": []
  },
  {
   "attachments": {},
   "cell_type": "markdown",
   "metadata": {},
   "source": []
  },
  {
   "attachments": {},
   "cell_type": "markdown",
   "metadata": {},
   "source": [
    "# 1. Binary Search\n",
    "\n",
    "Binary search is a very efficient search algorithm for finding the position of a specific value within a sorted array (e.g., array, list). </br>\n",
    "\n",
    "For an array of n elements, binary search can find the correct value (or determine that the value is not in the array) in at most $\\mathbf{log_2(N)}$ steps. This is significantly faster than a simple linear search, which could take up to $\\mathbf{N}$ steps in the worst case. </br>\n",
    "\n",
    "**Note**: The array must be **sorted** !!!"
   ]
  },
  {
   "cell_type": "code",
   "execution_count": null,
   "metadata": {},
   "outputs": [],
   "source": [
    "# written by: GPT4\n",
    "# a simple binary search\n",
    "def binary_search(arr, target):\n",
    "    left, right = 0, len(arr) - 1\n",
    "\n",
    "    while left <= right:\n",
    "        mid = left + (right - left) // 2\n",
    "\n",
    "        # Check if target is present at the mid\n",
    "        if arr[mid] == target:\n",
    "            return mid\n",
    "\n",
    "        # If target is greater, ignore left half\n",
    "        elif arr[mid] < target:\n",
    "            left = mid + 1\n",
    "\n",
    "        # If target is smaller, ignore right half\n",
    "        else:\n",
    "            right = mid - 1\n",
    "\n",
    "    # If we reach here, then the element was not present\n",
    "    return -1\n",
    "\n",
    "'''\n",
    "The mid is calculated as left + (right - left) // 2 \n",
    "instead of (left + right) // 2 \n",
    "to avoid overflow that can happen if left and right are both near the upper limit of their data type.\n",
    "'''\n",
    "\n",
    "# Further explaination\n",
    "\n",
    "'''\n",
    "Binary search involves repeatedly dividing the search space in half. The point of division is the 'middle' of the current search space, or range. We commonly calculate this middle index as the average of the two bounds, which could be done by (left + right) // 2.\n",
    "However, in some cases, especially in languages like C++ or Java which have a maximum limit for integer types, if the values of left and right are both very large (close to the maximum integer limit), then their sum could exceed this maximum limit and 'overflow', leading to incorrect results or runtime errors.\n",
    "Python itself is not susceptible to this kind of overflow because it can handle arbitrarily large integers, but the convention of left + (right - left) // 2 is used for consistency with other languages and scenarios where this issue could be a problem.\n",
    "Let's see why left + (right - left) // 2 avoids overflow:\n",
    "(right - left) // 2: Here, we're calculating half the difference between right and left. Since right is always greater than or equal to left, this difference will always be a positive number or zero. Dividing by 2 gives us the 'halfway point' between left and right.\n",
    "left + (right - left) // 2: We then add this 'halfway point' to left. This effectively gives us the middle point between left and right, the same result as (left + right) // 2, but without ever needing to directly add left and right, thus avoiding the risk of overflow.\n",
    "It's a small tweak, but in certain circumstances it can prevent bugs and is considered good practice to use even in languages like Python.\n",
    "'''"
   ]
  },
  {
   "cell_type": "code",
   "execution_count": 1,
   "metadata": {},
   "outputs": [
    {
     "name": "stdout",
     "output_type": "stream",
     "text": [
      "new_right:499\n",
      "new_right:248\n",
      "new_right:123\n",
      "new_right:60\n",
      "new_right:29\n",
      "new_left:15\n",
      "new_left:23\n",
      "new_left:27\n",
      "new_right:27\n",
      "get_mid:27\n",
      "done\n"
     ]
    }
   ],
   "source": [
    "# To better understand how it works\n",
    "left = 0\n",
    "right = 1000\n",
    "target = 27\n",
    "\n",
    "while left <= right:\n",
    "    mid = left + (right - left) // 2\n",
    "\n",
    "    # Check if target is present at the mid\n",
    "    if mid == target:\n",
    "        print('get_mid:' + f'{mid}')\n",
    "        break\n",
    "\n",
    "    # If target is greater, ignore left half\n",
    "    elif mid < target:\n",
    "        left = mid + 1\n",
    "        print('new_left:' + f'{left}')\n",
    "\n",
    "    # If target is smaller, ignore right half\n",
    "    else:\n",
    "        right = mid - 1\n",
    "        print('new_right:' + f'{right}')\n",
    "\n",
    "print('done')"
   ]
  },
  {
   "cell_type": "code",
   "execution_count": 3,
   "metadata": {},
   "outputs": [
    {
     "data": {
      "text/plain": [
       "27"
      ]
     },
     "execution_count": 3,
     "metadata": {},
     "output_type": "execute_result"
    }
   ],
   "source": [
    "# function version\n",
    "def binary_search(left,right,target):\n",
    "\n",
    "    while left <= right:\n",
    "        mid = left + (right - left + 1) // 2\n",
    "\n",
    "        # Check if target is present at the mid\n",
    "        if mid == target:\n",
    "            return mid\n",
    "\n",
    "        # If target is greater, ignore left half\n",
    "        elif mid < target:\n",
    "            left = mid + 1\n",
    "\n",
    "        # If target is smaller, ignore right half\n",
    "        else:\n",
    "            right = mid - 1\n",
    "\n",
    "        # If we reach here, then the element was not present\n",
    "    return -1\n",
    "\n",
    "binary_search(0,1000,27)"
   ]
  },
  {
   "cell_type": "code",
   "execution_count": null,
   "metadata": {},
   "outputs": [],
   "source": [
    "# In real case, it is easy to adjust to different senarios\n",
    "\n",
    "# Leetcode 1802. Maximum Value at a Given Index in a Bounded Array\n",
    "# https://leetcode.com/problems/maximum-value-at-a-given-index-in-a-bounded-array/\n",
    "\n",
    "# which require to find the maximum value at a given index in a bounded array\n",
    "# we can use binary search to find the maximum value\n",
    "\n",
    "class Solution:\n",
    "    def maxValue(self, n: int, index: int, maxSum: int) -> int:\n",
    "        \n",
    "        be = index # before index\n",
    "        re = n - index - 1 # after index\n",
    "\n",
    "        def check(i): # check the smaller sum value of the array with i at index place\n",
    "            if i > (re + 1) and i > (be + 1): \n",
    "                # i is larger than both re and be\n",
    "                return ((2*i-be-1)/2)*be + ((2*i-re-1)/2)*re + i\n",
    "            elif i > (re + 1): \n",
    "                # i is larger than re\n",
    "                return (i/2)*(i-1) + be - (i-1) + ((2*i-re-1)/2)*re + i\n",
    "            elif i > (be + 1): \n",
    "                # i is larger than be\n",
    "                return (i/2)*(i-1) + re - (i-1) + ((2*i-be-1)/2)*be + i\n",
    "            else: \n",
    "                # i is smaller than both re and be\n",
    "                return (i/2)*(i-1) + re - (i-1) + (i/2)*(i-1) + be - (i-1) + i\n",
    "\n",
    "        left,right = 0,maxSum-n+1 # initial search range\n",
    "\n",
    "        # binary search!\n",
    "        while left < right:\n",
    "            mid = left + (right - left + 1) // 2\n",
    "        \n",
    "            if check(mid) <= maxSum:\n",
    "            # if the sum of the array with mid at index place is smaller than maxSum, omit the left half\n",
    "                left = mid\n",
    "\n",
    "            # If target is smaller, ignore right half\n",
    "            else:\n",
    "                right = mid -1\n",
    "\n",
    "        # stop when left == right (the exact maximum value)\n",
    "        result = left\n",
    "        return result"
   ]
  },
  {
   "cell_type": "code",
   "execution_count": null,
   "metadata": {},
   "outputs": [],
   "source": []
  },
  {
   "cell_type": "code",
   "execution_count": null,
   "metadata": {},
   "outputs": [],
   "source": []
  },
  {
   "cell_type": "code",
   "execution_count": null,
   "metadata": {},
   "outputs": [],
   "source": []
  }
 ],
 "metadata": {
  "kernelspec": {
   "display_name": "Python 3",
   "language": "python",
   "name": "python3"
  },
  "language_info": {
   "codemirror_mode": {
    "name": "ipython",
    "version": 3
   },
   "file_extension": ".py",
   "mimetype": "text/x-python",
   "name": "python",
   "nbconvert_exporter": "python",
   "pygments_lexer": "ipython3",
   "version": "3.9.6"
  },
  "orig_nbformat": 4
 },
 "nbformat": 4,
 "nbformat_minor": 2
}
