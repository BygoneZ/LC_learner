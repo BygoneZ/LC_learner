{
 "cells": [
  {
   "cell_type": "code",
   "execution_count": 29,
   "metadata": {},
   "outputs": [],
   "source": [
    "import numpy as np"
   ]
  },
  {
   "cell_type": "code",
   "execution_count": 11,
   "metadata": {},
   "outputs": [
    {
     "name": "stdout",
     "output_type": "stream",
     "text": [
      "new_right:499\n",
      "new_right:248\n",
      "new_right:123\n",
      "new_right:60\n",
      "new_right:29\n",
      "new_left:15\n",
      "new_left:23\n",
      "new_left:27\n",
      "new_right:27\n",
      "get_mid:27\n",
      "-1\n"
     ]
    }
   ],
   "source": [
    "left = 0\n",
    "right = 1000\n",
    "\n",
    "target = 27\n",
    "\n",
    "while left <= right:\n",
    "    mid = left + (right - left) // 2\n",
    "\n",
    "        # Check if target is present at the mid\n",
    "    if mid == target:\n",
    "        print('get_mid:' + f'{mid}')\n",
    "        break\n",
    "\n",
    "        # If target is greater, ignore left half\n",
    "    elif mid < target:\n",
    "        left = mid + 1\n",
    "        print('new_left:' + f'{left}')\n",
    "\n",
    "        # If target is smaller, ignore right half\n",
    "    else:\n",
    "        right = mid - 1\n",
    "        print('new_right:' + f'{right}')\n",
    "\n",
    "# If we reach here, then the element was not present\n",
    "print(-1)\n"
   ]
  },
  {
   "cell_type": "code",
   "execution_count": 30,
   "metadata": {},
   "outputs": [
    {
     "data": {
      "text/plain": [
       "9.965784284662087"
      ]
     },
     "execution_count": 30,
     "metadata": {},
     "output_type": "execute_result"
    }
   ],
   "source": [
    "np.log2(1000)"
   ]
  },
  {
   "cell_type": "code",
   "execution_count": 12,
   "metadata": {},
   "outputs": [],
   "source": [
    "def binary_search(left,right,target):\n",
    "\n",
    "    while left <= right:\n",
    "        mid = left + (right - left + 1) // 2\n",
    "\n",
    "        # Check if target is present at the mid\n",
    "        if mid == target:\n",
    "            return mid\n",
    "\n",
    "        # If target is greater, ignore left half\n",
    "        elif mid < target:\n",
    "            left = mid + 1\n",
    "\n",
    "        # If target is smaller, ignore right half\n",
    "        else:\n",
    "            right = mid - 1\n",
    "\n",
    "        # If we reach here, then the element was not present\n",
    "    return -1"
   ]
  },
  {
   "cell_type": "code",
   "execution_count": 14,
   "metadata": {},
   "outputs": [
    {
     "data": {
      "text/plain": [
       "-1"
      ]
     },
     "execution_count": 14,
     "metadata": {},
     "output_type": "execute_result"
    }
   ],
   "source": [
    "binary_search(0,1000,-10)"
   ]
  },
  {
   "cell_type": "code",
   "execution_count": null,
   "metadata": {},
   "outputs": [],
   "source": []
  },
  {
   "cell_type": "code",
   "execution_count": 17,
   "metadata": {},
   "outputs": [],
   "source": [
    "def b(left,right, target):\n",
    "\n",
    "\n",
    "    while left < right:\n",
    "        mid = (left + right + 1) // 2\n",
    "        if mid * 2 <= target:\n",
    "            left = mid\n",
    "        else:\n",
    "            right = mid - 1\n",
    "    result = left\n",
    "    return result"
   ]
  },
  {
   "cell_type": "code",
   "execution_count": 20,
   "metadata": {},
   "outputs": [
    {
     "data": {
      "text/plain": [
       "13"
      ]
     },
     "execution_count": 20,
     "metadata": {},
     "output_type": "execute_result"
    }
   ],
   "source": [
    "b(0,100,26)"
   ]
  },
  {
   "cell_type": "code",
   "execution_count": null,
   "metadata": {},
   "outputs": [],
   "source": []
  },
  {
   "cell_type": "code",
   "execution_count": null,
   "metadata": {},
   "outputs": [],
   "source": []
  },
  {
   "cell_type": "code",
   "execution_count": null,
   "metadata": {},
   "outputs": [],
   "source": []
  },
  {
   "cell_type": "code",
   "execution_count": 27,
   "metadata": {},
   "outputs": [],
   "source": [
    "class Solution:\n",
    "    def maxValue(self, n: int, index: int, maxSum: int) -> int:\n",
    "\n",
    "        be = index\n",
    "        re = n - index - 1\n",
    "\n",
    "        def check(i):\n",
    "            if i > (re + 1) and i > (be + 1):\n",
    "                return ((2*i-be-1)/2)*be + ((2*i-re-1)/2)*re + i\n",
    "            elif i > (re + 1):\n",
    "                return (i/2)*(i-1) + be - (i-1) + ((2*i-re-1)/2)*re + i\n",
    "            elif i > (be + 1):\n",
    "                return (i/2)*(i-1) + re - (i-1) + ((2*i-be-1)/2)*be + i\n",
    "            else:\n",
    "                return (i/2)*(i-1) + re - (i-1) + (i/2)*(i-1) + be - (i-1) + i\n",
    "\n",
    "        left,right = 0,maxSum-n\n",
    "\n",
    "        while left < right:\n",
    "            mid = left + (right - left + 1) // 2\n",
    "\n",
    "            # Check if target is present at the mid\n",
    "            if check(mid) <= maxSum:\n",
    "                left = mid\n",
    "                print('new_left:' + f'{left}')\n",
    "\n",
    "            # If target is greater, ignore left half\n",
    "            else:\n",
    "                right = mid -1\n",
    "                print('new_right:' + f'{right}')\n",
    "\n",
    "        result = left\n",
    "        return result"
   ]
  },
  {
   "cell_type": "code",
   "execution_count": 28,
   "metadata": {},
   "outputs": [
    {
     "name": "stdout",
     "output_type": "stream",
     "text": [
      "new_right:7\n",
      "new_left:4\n",
      "new_left:6\n",
      "new_left:7\n"
     ]
    },
    {
     "data": {
      "text/plain": [
       "7"
      ]
     },
     "execution_count": 28,
     "metadata": {},
     "output_type": "execute_result"
    }
   ],
   "source": [
    "Solution().maxValue(3,2,18)"
   ]
  },
  {
   "cell_type": "code",
   "execution_count": null,
   "metadata": {},
   "outputs": [],
   "source": []
  }
 ],
 "metadata": {
  "kernelspec": {
   "display_name": "Python 3",
   "language": "python",
   "name": "python3"
  },
  "language_info": {
   "codemirror_mode": {
    "name": "ipython",
    "version": 3
   },
   "file_extension": ".py",
   "mimetype": "text/x-python",
   "name": "python",
   "nbconvert_exporter": "python",
   "pygments_lexer": "ipython3",
   "version": "3.9.6"
  },
  "orig_nbformat": 4
 },
 "nbformat": 4,
 "nbformat_minor": 2
}
